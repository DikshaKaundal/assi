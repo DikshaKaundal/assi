{
 "cells": [
  {
   "cell_type": "markdown",
   "id": "689f40c5-e0e5-460b-bce6-064a512aa191",
   "metadata": {},
   "source": [
    "1.What are the two values of the Boolean data type? How do you write them?\n",
    "1.ikakehrhqkkljwqloirjulkejlke\n",
    "kldljkf\n",
    "lljj\n",
    "hkewjl'jelk'"
   ]
  },
  {
   "cell_type": "markdown",
   "id": "28f4eba4-a53c-4502-939c-8ad765de41b1",
   "metadata": {},
   "source": [
    "Eell"
   ]
  }
 ],
 "metadata": {
  "kernelspec": {
   "display_name": "Python 3 (ipykernel)",
   "language": "python",
   "name": "python3"
  },
  "language_info": {
   "codemirror_mode": {
    "name": "ipython",
    "version": 3
   },
   "file_extension": ".py",
   "mimetype": "text/x-python",
   "name": "python",
   "nbconvert_exporter": "python",
   "pygments_lexer": "ipython3",
   "version": "3.9.12"
  }
 },
 "nbformat": 4,
 "nbformat_minor": 5
}
