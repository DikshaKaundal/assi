{
 "cells": [
  {
   "cell_type": "markdown",
   "id": "c620e5a4-a834-4e2a-bbc5-eef88b45d4ae",
   "metadata": {},
   "source": [
    " The types of errors that we encountered during our lecture are as follows:"
   ]
  },
  {
   "cell_type": "code",
   "execution_count": 1,
   "id": "7a1ed7c8-186e-4dc2-a881-8ce23b1aad28",
   "metadata": {},
   "outputs": [
    {
     "ename": "NameError",
     "evalue": "name 'Print' is not defined",
     "output_type": "error",
     "traceback": [
      "\u001b[0;31m---------------------------------------------------------------------------\u001b[0m",
      "\u001b[0;31mNameError\u001b[0m                                 Traceback (most recent call last)",
      "Input \u001b[0;32mIn [1]\u001b[0m, in \u001b[0;36m<cell line: 1>\u001b[0;34m()\u001b[0m\n\u001b[0;32m----> 1\u001b[0m \u001b[43mPrint\u001b[49m(\u001b[38;5;124m\"\u001b[39m\u001b[38;5;124mHi Ineuron\u001b[39m\u001b[38;5;124m\"\u001b[39m)\n",
      "\u001b[0;31mNameError\u001b[0m: name 'Print' is not defined"
     ]
    }
   ],
   "source": [
    "Print(\"Hi Ineuron\")"
   ]
  },
  {
   "cell_type": "code",
   "execution_count": 2,
   "id": "a58b39f8-2839-45fd-816e-7e6560f60b67",
   "metadata": {},
   "outputs": [
    {
     "name": "stdout",
     "output_type": "stream",
     "text": [
      "Hi Ineuron\n"
     ]
    }
   ],
   "source": [
    "print(\"Hi Ineuron\")"
   ]
  },
  {
   "cell_type": "raw",
   "id": "1e533708-68b0-4acc-bc50-888aeb34d2cd",
   "metadata": {
    "jupyter": {
     "source_hidden": true
    },
    "tags": []
   },
   "source": [
    "In the above two lines the print() function prints the specified message to the screen but letter P in print should be in lower case."
   ]
  },
  {
   "cell_type": "code",
   "execution_count": 4,
   "id": "82f1ade4-ef0b-4ca6-a772-b4daf2ef6583",
   "metadata": {},
   "outputs": [
    {
     "ename": "SyntaxError",
     "evalue": "EOL while scanning string literal (2003903040.py, line 1)",
     "output_type": "error",
     "traceback": [
      "\u001b[0;36m  Input \u001b[0;32mIn [4]\u001b[0;36m\u001b[0m\n\u001b[0;31m    print(\"good\u001b[0m\n\u001b[0m               ^\u001b[0m\n\u001b[0;31mSyntaxError\u001b[0m\u001b[0;31m:\u001b[0m EOL while scanning string literal\n"
     ]
    }
   ],
   "source": [
    "print(\"good\n",
    "evening\")"
   ]
  },
  {
   "cell_type": "markdown",
   "id": "d1fb571a-0298-48af-9a39-09fce5f02f32",
   "metadata": {},
   "source": [
    "Here you can see that the above line leads to an error that is EOL or end of line so it should be written as:"
   ]
  },
  {
   "cell_type": "code",
   "execution_count": 5,
   "id": "4f520ead-621f-45bb-8582-8c823e0f66a7",
   "metadata": {},
   "outputs": [
    {
     "name": "stdout",
     "output_type": "stream",
     "text": [
      "good evening\n"
     ]
    }
   ],
   "source": [
    "print(\"good evening\")"
   ]
  },
  {
   "cell_type": "markdown",
   "id": "500eeddf-5d88-4689-b537-e45be4b28c90",
   "metadata": {},
   "source": [
    "or"
   ]
  },
  {
   "cell_type": "markdown",
   "id": "5d36e921-6244-4267-a560-1f0355b5445d",
   "metadata": {},
   "source": [
    "try adding triple quotes like below:"
   ]
  },
  {
   "cell_type": "code",
   "execution_count": 7,
   "id": "f5a67fa8-4b1b-43d3-9c9a-5e073200c536",
   "metadata": {},
   "outputs": [
    {
     "name": "stdout",
     "output_type": "stream",
     "text": [
      "good\n",
      "evening\n"
     ]
    }
   ],
   "source": [
    "print(\"\"\"good\n",
    "evening\"\"\")"
   ]
  },
  {
   "cell_type": "markdown",
   "id": "63cab5c0-d977-4d31-b495-8b9095ded9a7",
   "metadata": {},
   "source": [
    "Now to print something in the string in single quotes,we must put the string in double quotes as below:"
   ]
  },
  {
   "cell_type": "code",
   "execution_count": null,
   "id": "27856ccd-75fa-424f-ae84-861e2da80d24",
   "metadata": {},
   "outputs": [],
   "source": [
    "print("
   ]
  }
 ],
 "metadata": {
  "kernelspec": {
   "display_name": "Python 3 (ipykernel)",
   "language": "python",
   "name": "python3"
  },
  "language_info": {
   "codemirror_mode": {
    "name": "ipython",
    "version": 3
   },
   "file_extension": ".py",
   "mimetype": "text/x-python",
   "name": "python",
   "nbconvert_exporter": "python",
   "pygments_lexer": "ipython3",
   "version": "3.9.12"
  }
 },
 "nbformat": 4,
 "nbformat_minor": 5
}
