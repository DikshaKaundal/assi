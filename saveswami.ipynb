{
 "cells": [
  {
   "cell_type": "markdown",
   "id": "b7d2fda6-9562-4a10-b5f8-1a53cc6513f2",
   "metadata": {},
   "source": [
    "kjfhkjkdsf.kfm.,d./?\n",
    "d'\n",
    "djksaddjdbhmaghdb,k\n",
    ";\n",
    "'"
   ]
  },
  {
   "cell_type": "markdown",
   "id": "17ae2f47-4a64-4ea8-baa0-97e8c5b8fa7c",
   "metadata": {},
   "source": [
    "ljwklsal;f;fkcjkl;ld\n",
    "\"hello world\""
   ]
  },
  {
   "cell_type": "markdown",
   "id": "99106f93-474e-4eac-bdbd-b63a9b1a3f24",
   "metadata": {},
   "source": [
    "'hello'"
   ]
  },
  {
   "cell_type": "markdown",
   "id": "f4e825ce-a1dc-43d8-944b-d7c6d8984504",
   "metadata": {},
   "source": [
    "1.Write a python programme.\n",
    "dhjkfhkljd vhkjhjlkdjlk;lkdlajlkLKQJWLKQKW;;LJLKWLW"
   ]
  },
  {
   "cell_type": "code",
   "execution_count": 2,
   "id": "7256e347-a611-46e9-8542-baf8fc8f7f0c",
   "metadata": {},
   "outputs": [
    {
     "data": {
      "text/plain": [
       "24"
      ]
     },
     "execution_count": 2,
     "metadata": {},
     "output_type": "execute_result"
    }
   ],
   "source": [
    "bacon=23\n",
    "bacon+1"
   ]
  },
  {
   "cell_type": "code",
   "execution_count": null,
   "id": "669e80bc-1bbc-4f95-845f-744a0598641a",
   "metadata": {},
   "outputs": [],
   "source": []
  }
 ],
 "metadata": {
  "kernelspec": {
   "display_name": "Python 3 (ipykernel)",
   "language": "python",
   "name": "python3"
  },
  "language_info": {
   "codemirror_mode": {
    "name": "ipython",
    "version": 3
   },
   "file_extension": ".py",
   "mimetype": "text/x-python",
   "name": "python",
   "nbconvert_exporter": "python",
   "pygments_lexer": "ipython3",
   "version": "3.9.12"
  }
 },
 "nbformat": 4,
 "nbformat_minor": 5
}
