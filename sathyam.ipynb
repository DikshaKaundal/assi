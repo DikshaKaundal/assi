{
 "cells": [
  {
   "cell_type": "markdown",
   "id": "98853ac1-913d-4f3f-b1ef-72c3925a2195",
   "metadata": {},
   "source": [
    "hhhfhdfhdjkfkjfkjdhf"
   ]
  },
  {
   "cell_type": "markdown",
   "id": "535a823e-fc94-4e45-a131-3f642c1cdb90",
   "metadata": {},
   "source": [
    "lkdksdadksdjkjd"
   ]
  },
  {
   "cell_type": "markdown",
   "id": "fe310032-9a9d-4910-be62-329dec85d463",
   "metadata": {},
   "source": [
    "lksjdldkdjkldjkljdlkjdlkdj"
   ]
  },
  {
   "cell_type": "markdown",
   "id": "d1a01f07-7167-47f9-8fc8-3b2c9a05f24b",
   "metadata": {},
   "source": [
    "jhfkjdhfkdfjldfjl;dfjk;ldfkld;fkl;"
   ]
  },
  {
   "cell_type": "markdown",
   "id": "7ec6077b-08f5-491d-826d-ba1e439089a7",
   "metadata": {},
   "source": [
    "jdgjhdgjfgjfgjhgfhjghjghjgj"
   ]
  },
  {
   "cell_type": "code",
   "execution_count": null,
   "id": "e446562b-778c-4b93-b47d-8521ba3de94e",
   "metadata": {},
   "outputs": [],
   "source": []
  }
 ],
 "metadata": {
  "kernelspec": {
   "display_name": "Python 3 (ipykernel)",
   "language": "python",
   "name": "python3"
  },
  "language_info": {
   "codemirror_mode": {
    "name": "ipython",
    "version": 3
   },
   "file_extension": ".py",
   "mimetype": "text/x-python",
   "name": "python",
   "nbconvert_exporter": "python",
   "pygments_lexer": "ipython3",
   "version": "3.10.6"
  }
 },
 "nbformat": 4,
 "nbformat_minor": 5
}
